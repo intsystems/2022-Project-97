{
 "cells": [
  {
   "cell_type": "code",
   "execution_count": 1,
   "metadata": {
    "colab": {
     "base_uri": "https://localhost:8080/"
    },
    "id": "VuaQFlTDeGE8",
    "outputId": "f7e511d4-0f2c-41b0-b2f7-a82ac66581c7"
   },
   "outputs": [
    {
     "name": "stdout",
     "output_type": "stream",
     "text": [
      "\u001b[31mERROR: mlflow 1.15.0 has requirement alembic<=1.4.1, but you'll have alembic 1.8.1 which is incompatible.\u001b[0m\n"
     ]
    }
   ],
   "source": [
    "!pip install optuna matplotlib torchvision --quiet"
   ]
  },
  {
   "cell_type": "code",
   "execution_count": 2,
   "metadata": {
    "colab": {
     "base_uri": "https://localhost:8080/",
     "height": 51
    },
    "id": "mL0GerRHPLhU",
    "outputId": "6d891b03-d704-4897-8d72-f2e4e1f476f6"
   },
   "outputs": [
    {
     "name": "stdout",
     "output_type": "stream",
     "text": [
      "Using cuda device\n",
      "Using cuda device\n"
     ]
    },
    {
     "data": {
      "text/plain": [
       "<Figure size 864x720 with 0 Axes>"
      ]
     },
     "metadata": {},
     "output_type": "display_data"
    }
   ],
   "source": [
    "import torch\n",
    "import optuna\n",
    "import numpy as np\n",
    "import matplotlib.pylab as plt\n",
    "from IPython.display import clear_output\n",
    "import torch.nn as nn \n",
    "import torch.optim as optim\n",
    "\n",
    "import antidistil\n",
    "import pipeline\n",
    "import consts\n",
    "from importlib import reload\n",
    "import plot\n",
    "import json\n",
    "reload(plot)\n",
    "reload(antidistil)\n",
    "reload(pipeline)\n",
    "reload(consts)\n",
    "plot.prepare_for_plots()"
   ]
  },
  {
   "cell_type": "code",
   "execution_count": 3,
   "metadata": {
    "id": "pt3eOKJuPZbo"
   },
   "outputs": [],
   "source": [
    "train_dataloader, test_dataloader = pipeline.get_data()"
   ]
  },
  {
   "cell_type": "code",
   "execution_count": 4,
   "metadata": {
    "id": "1wNLbeijPu8Q"
   },
   "outputs": [],
   "source": [
    "def train_antidistill_loop(l1, l2, l3, l4):\n",
    "\n",
    "    history = {'train_loss': [], 'train_acc': [], 'val_loss': [], 'val_acc': []}\n",
    "\n",
    "    for i in range(consts.num_repeats):\n",
    "        clear_output()\n",
    "        print(f\"Model {i+1}\\n-------------------------------\"\n",
    "                          \"\\n-------------------------------\")\n",
    "\n",
    "        torch.manual_seed(i)\n",
    "\n",
    "        teacher = pipeline.make_teacher_model()\n",
    "        teacher.load_state_dict(torch.load(pipeline.get_path()+f'/teacher_5cl_{i}.pt'))\n",
    "        model = antidistil.make_student_model()\n",
    "\n",
    "        mask = torch.tensor([1, 1, 1, 1, 1, 0, 0, 0, 0, 0], dtype=torch.float).to(consts.device)\n",
    "        \n",
    "        loss_fn = antidistil.altidistill_loss\n",
    "        optimizer = optim.Adam(model.parameters(), lr=consts.student_5_antidistil_learning_rate)\n",
    "        scheduler = optim.lr_scheduler.ExponentialLR(optimizer, gamma=0.85)\n",
    "\n",
    "        lambdas = [l1, l2, l3, l4]\n",
    "        \n",
    "        for epoch in range(10):\n",
    "            print(f\"Epoch {epoch+1}\\n-------------------------------\")\n",
    "\n",
    "            pipeline.antidistil_loop(teacher, model, lambdas, mask, train_dataloader, \n",
    "                                    loss_fn, optimizer, scheduler, noise_dist='uniform', noise_eps=1e-1)\n",
    "\n",
    "        optimizer = optim.Adam(model.parameters(), lr=consts.student_5_learning_rate)    \n",
    "\n",
    "        mask = torch.ones(10).to(consts.device)\n",
    "\n",
    "        loss_fn = nn.CrossEntropyLoss()\n",
    "\n",
    "        for epoch in range(10):\n",
    "            print(f\"Epoch {epoch+1}\\n-------------------------------\")\n",
    "\n",
    "            pipeline.train_loop(model, history, mask, train_dataloader, loss_fn, optimizer)\n",
    "            pipeline.test_loop(model, history, mask, test_dataloader, loss_fn)\n",
    "\n",
    "        pipeline.test_loop_fsgm(model, history, mask, test_dataloader, loss_fn, consts.fsgm_eps)\n",
    "        pipeline.test_loop_noise(model, history, mask, test_dataloader, consts.noise_eps)\n",
    "\n",
    "    return np.array(history['fsgm_noise_acc']).mean(axis=0)[-1]"
   ]
  },
  {
   "cell_type": "code",
   "execution_count": 5,
   "metadata": {
    "id": "swCB6zNHN5m5",
    "tags": []
   },
   "outputs": [
    {
     "name": "stderr",
     "output_type": "stream",
     "text": [
      "Batch #:   0%|          | 0/235 [00:00<?, ?it/s]"
     ]
    },
    {
     "name": "stdout",
     "output_type": "stream",
     "text": [
      "Model 10\n",
      "-------------------------------\n",
      "-------------------------------\n",
      "Epoch 1\n",
      "-------------------------------\n"
     ]
    },
    {
     "name": "stderr",
     "output_type": "stream",
     "text": [
      "Batch #:   0%|          | 0/235 [00:00<?, ?it/s]          "
     ]
    },
    {
     "name": "stdout",
     "output_type": "stream",
     "text": [
      "Train Loss: 43.73215128716002\n",
      "Train Acc: 0.8793666666666666\n",
      "Epoch 2\n",
      "-------------------------------\n"
     ]
    },
    {
     "name": "stderr",
     "output_type": "stream",
     "text": [
      "Batch #:   0%|          | 0/235 [00:00<?, ?it/s]          "
     ]
    },
    {
     "name": "stdout",
     "output_type": "stream",
     "text": [
      "Train Loss: 5.521642500288943\n",
      "Train Acc: 0.9437\n",
      "Epoch 3\n",
      "-------------------------------\n"
     ]
    },
    {
     "name": "stderr",
     "output_type": "stream",
     "text": [
      "Batch #:   0%|          | 0/235 [00:00<?, ?it/s]          "
     ]
    },
    {
     "name": "stdout",
     "output_type": "stream",
     "text": [
      "Train Loss: 0.31441834600681956\n",
      "Train Acc: 0.948\n",
      "Epoch 4\n",
      "-------------------------------\n"
     ]
    },
    {
     "name": "stderr",
     "output_type": "stream",
     "text": [
      "Batch #:   0%|          | 0/235 [00:00<?, ?it/s]          "
     ]
    },
    {
     "name": "stdout",
     "output_type": "stream",
     "text": [
      "Train Loss: 0.20516151738293628\n",
      "Train Acc: 0.9489\n",
      "Epoch 5\n",
      "-------------------------------\n"
     ]
    },
    {
     "name": "stderr",
     "output_type": "stream",
     "text": [
      "Batch #:   0%|          | 0/235 [00:00<?, ?it/s]          "
     ]
    },
    {
     "name": "stdout",
     "output_type": "stream",
     "text": [
      "Train Loss: 0.19103498487396442\n",
      "Train Acc: 0.949\n",
      "Epoch 6\n",
      "-------------------------------\n"
     ]
    },
    {
     "name": "stderr",
     "output_type": "stream",
     "text": [
      "Batch #:   0%|          | 0/235 [00:00<?, ?it/s]          "
     ]
    },
    {
     "name": "stdout",
     "output_type": "stream",
     "text": [
      "Train Loss: 0.1807746598061095\n",
      "Train Acc: 0.95\n",
      "Epoch 7\n",
      "-------------------------------\n"
     ]
    },
    {
     "name": "stderr",
     "output_type": "stream",
     "text": [
      "Batch #:   0%|          | 0/235 [00:00<?, ?it/s]          "
     ]
    },
    {
     "name": "stdout",
     "output_type": "stream",
     "text": [
      "Train Loss: 0.1747091699153819\n",
      "Train Acc: 0.9500333333333333\n",
      "Epoch 8\n",
      "-------------------------------\n"
     ]
    },
    {
     "name": "stderr",
     "output_type": "stream",
     "text": [
      "Batch #:   0%|          | 0/235 [00:00<?, ?it/s]          "
     ]
    },
    {
     "name": "stdout",
     "output_type": "stream",
     "text": [
      "Train Loss: 0.17080631218057998\n",
      "Train Acc: 0.9501666666666667\n",
      "Epoch 9\n",
      "-------------------------------\n"
     ]
    },
    {
     "name": "stderr",
     "output_type": "stream",
     "text": [
      "Batch #:   0%|          | 0/235 [00:00<?, ?it/s]          "
     ]
    },
    {
     "name": "stdout",
     "output_type": "stream",
     "text": [
      "Train Loss: 0.16582100863786453\n",
      "Train Acc: 0.9506666666666667\n",
      "Epoch 10\n",
      "-------------------------------\n"
     ]
    },
    {
     "name": "stderr",
     "output_type": "stream",
     "text": [
      "Batch #:   0%|          | 0/235 [00:00<?, ?it/s]          "
     ]
    },
    {
     "name": "stdout",
     "output_type": "stream",
     "text": [
      "Train Loss: 0.16162113456967028\n",
      "Train Acc: 0.9516666666666667\n",
      "Epoch 1\n",
      "-------------------------------\n"
     ]
    },
    {
     "name": "stderr",
     "output_type": "stream",
     "text": [
      "Batch #:   0%|          | 0/235 [00:00<?, ?it/s]          "
     ]
    },
    {
     "name": "stdout",
     "output_type": "stream",
     "text": [
      "Validation accuracy: 83.3%, Validation loss: 0.480742 \n",
      "\n",
      "Epoch 2\n",
      "-------------------------------\n"
     ]
    },
    {
     "name": "stderr",
     "output_type": "stream",
     "text": [
      "Batch #:   0%|          | 0/235 [00:00<?, ?it/s]          "
     ]
    },
    {
     "name": "stdout",
     "output_type": "stream",
     "text": [
      "Validation accuracy: 85.7%, Validation loss: 0.400904 \n",
      "\n",
      "Epoch 3\n",
      "-------------------------------\n"
     ]
    },
    {
     "name": "stderr",
     "output_type": "stream",
     "text": [
      "Batch #:   0%|          | 0/235 [00:00<?, ?it/s]          "
     ]
    },
    {
     "name": "stdout",
     "output_type": "stream",
     "text": [
      "Validation accuracy: 86.6%, Validation loss: 0.379023 \n",
      "\n",
      "Epoch 4\n",
      "-------------------------------\n"
     ]
    },
    {
     "name": "stderr",
     "output_type": "stream",
     "text": [
      "Batch #:   0%|          | 0/235 [00:00<?, ?it/s]          "
     ]
    },
    {
     "name": "stdout",
     "output_type": "stream",
     "text": [
      "Validation accuracy: 86.9%, Validation loss: 0.368292 \n",
      "\n",
      "Epoch 5\n",
      "-------------------------------\n"
     ]
    },
    {
     "name": "stderr",
     "output_type": "stream",
     "text": [
      "Batch #:   0%|          | 0/235 [00:00<?, ?it/s]          "
     ]
    },
    {
     "name": "stdout",
     "output_type": "stream",
     "text": [
      "Validation accuracy: 87.3%, Validation loss: 0.362135 \n",
      "\n",
      "Epoch 6\n",
      "-------------------------------\n"
     ]
    },
    {
     "name": "stderr",
     "output_type": "stream",
     "text": [
      "Batch #:   0%|          | 0/235 [00:00<?, ?it/s]          "
     ]
    },
    {
     "name": "stdout",
     "output_type": "stream",
     "text": [
      "Validation accuracy: 87.5%, Validation loss: 0.359691 \n",
      "\n",
      "Epoch 7\n",
      "-------------------------------\n"
     ]
    },
    {
     "name": "stderr",
     "output_type": "stream",
     "text": [
      "Batch #:   0%|          | 0/235 [00:00<?, ?it/s]          "
     ]
    },
    {
     "name": "stdout",
     "output_type": "stream",
     "text": [
      "Validation accuracy: 87.7%, Validation loss: 0.354056 \n",
      "\n",
      "Epoch 8\n",
      "-------------------------------\n"
     ]
    },
    {
     "name": "stderr",
     "output_type": "stream",
     "text": [
      "Batch #:   0%|          | 0/235 [00:00<?, ?it/s]          "
     ]
    },
    {
     "name": "stdout",
     "output_type": "stream",
     "text": [
      "Validation accuracy: 87.8%, Validation loss: 0.352673 \n",
      "\n",
      "Epoch 9\n",
      "-------------------------------\n"
     ]
    },
    {
     "name": "stderr",
     "output_type": "stream",
     "text": [
      "Batch #:   0%|          | 0/235 [00:00<?, ?it/s]          "
     ]
    },
    {
     "name": "stdout",
     "output_type": "stream",
     "text": [
      "Validation accuracy: 87.9%, Validation loss: 0.353671 \n",
      "\n",
      "Epoch 10\n",
      "-------------------------------\n"
     ]
    },
    {
     "name": "stderr",
     "output_type": "stream",
     "text": [
      "Batch #:   0%|          | 0/40 [00:00<?, ?it/s]           "
     ]
    },
    {
     "name": "stdout",
     "output_type": "stream",
     "text": [
      "Validation accuracy: 88.0%, Validation loss: 0.353588 \n",
      "\n"
     ]
    },
    {
     "name": "stderr",
     "output_type": "stream",
     "text": [
      "Batch #:   0%|          | 0/40 [00:00<?, ?it/s]         "
     ]
    },
    {
     "name": "stdout",
     "output_type": "stream",
     "text": [
      "FSGM Accuracy [0.8805, 0.8522, 0.8238, 0.789, 0.7535, 0.7161, 0.6761, 0.6404, 0.6049, 0.5672]\n"
     ]
    },
    {
     "name": "stderr",
     "output_type": "stream",
     "text": [
      "\u001b[32m[I 2022-11-03 20:54:56,448]\u001b[0m Trial 9 finished with value: 0.5643499999999999 and parameters: {'l1': 0.350961620679606, 'l2': 0.9160254440218502, 'l3': 0.6240259442308044, 'l4': 0.6591129819117321}. Best is trial 1 with value: 0.57722.\u001b[0m\n"
     ]
    },
    {
     "name": "stdout",
     "output_type": "stream",
     "text": [
      "Noise Accuracy [0.8805, 0.8782, 0.8734, 0.8615, 0.8449, 0.8284, 0.8075, 0.7741, 0.7479, 0.7092]\n"
     ]
    }
   ],
   "source": [
    "def objective(trial):\n",
    "    l1 = trial.suggest_float('l1', 0, 1)\n",
    "    l2 = trial.suggest_float('l2', 0, 1)\n",
    "    l3 = trial.suggest_float('l3', 0, 1)\n",
    "    l4 = trial.suggest_float('l4', 0, 1)\n",
    "    \n",
    "    acc = train_antidistill_loop(l1, l2, l3, l4)\n",
    "\n",
    "    return acc\n",
    "\n",
    "study = optuna.create_study(direction='maximize')\n",
    "study.optimize(objective, n_trials=10)"
   ]
  },
  {
   "cell_type": "code",
   "execution_count": 6,
   "metadata": {
    "id": "TDjN9peafoIQ"
   },
   "outputs": [
    {
     "data": {
      "text/plain": [
       "[FrozenTrial(number=1, values=[0.57722], datetime_start=datetime.datetime(2022, 11, 3, 15, 8, 34, 823046), datetime_complete=datetime.datetime(2022, 11, 3, 15, 47, 2, 163639), params={'l1': 0.716363757180193, 'l2': 0.6256876037711583, 'l3': 0.0027526129759972706, 'l4': 0.5634907950570721}, distributions={'l1': FloatDistribution(high=1.0, log=False, low=0.0, step=None), 'l2': FloatDistribution(high=1.0, log=False, low=0.0, step=None), 'l3': FloatDistribution(high=1.0, log=False, low=0.0, step=None), 'l4': FloatDistribution(high=1.0, log=False, low=0.0, step=None)}, user_attrs={}, system_attrs={}, intermediate_values={}, trial_id=1, state=TrialState.COMPLETE, value=None)]"
      ]
     },
     "execution_count": 6,
     "metadata": {},
     "output_type": "execute_result"
    }
   ],
   "source": [
    "study.best_trials"
   ]
  },
  {
   "cell_type": "code",
   "execution_count": 7,
   "metadata": {
    "id": "KuLoi6DbJF0b"
   },
   "outputs": [
    {
     "data": {
      "text/plain": [
       "OrderedDict([('l4', 0.3623355591075348),\n",
       "             ('l3', 0.24462296467939607),\n",
       "             ('l1', 0.2169215078949108),\n",
       "             ('l2', 0.1761199683181584)])"
      ]
     },
     "execution_count": 7,
     "metadata": {},
     "output_type": "execute_result"
    }
   ],
   "source": [
    "best_params = optuna.importance.get_param_importances(study)\n",
    "best_params"
   ]
  },
  {
   "cell_type": "code",
   "execution_count": 8,
   "metadata": {
    "id": "lVqkyik3GaWg"
   },
   "outputs": [
    {
     "name": "stderr",
     "output_type": "stream",
     "text": [
      "Batch #:   0%|          | 0/235 [00:00<?, ?it/s]"
     ]
    },
    {
     "name": "stdout",
     "output_type": "stream",
     "text": [
      "Model 10\n",
      "-------------------------------\n",
      "-------------------------------\n",
      "Epoch 1\n",
      "-------------------------------\n"
     ]
    },
    {
     "name": "stderr",
     "output_type": "stream",
     "text": [
      "Batch #:   0%|          | 0/235 [00:00<?, ?it/s]          "
     ]
    },
    {
     "name": "stdout",
     "output_type": "stream",
     "text": [
      "Train Loss: 11.95999081388433\n",
      "Train Acc: 0.8777666666666667\n",
      "Epoch 2\n",
      "-------------------------------\n"
     ]
    },
    {
     "name": "stderr",
     "output_type": "stream",
     "text": [
      "Batch #:   0%|          | 0/235 [00:00<?, ?it/s]          "
     ]
    },
    {
     "name": "stdout",
     "output_type": "stream",
     "text": [
      "Train Loss: 1.5876479910409196\n",
      "Train Acc: 0.9418\n",
      "Epoch 3\n",
      "-------------------------------\n"
     ]
    },
    {
     "name": "stderr",
     "output_type": "stream",
     "text": [
      "Batch #:   0%|          | 0/235 [00:00<?, ?it/s]          "
     ]
    },
    {
     "name": "stdout",
     "output_type": "stream",
     "text": [
      "Train Loss: 0.14782552110387923\n",
      "Train Acc: 0.9471666666666667\n",
      "Epoch 4\n",
      "-------------------------------\n"
     ]
    },
    {
     "name": "stderr",
     "output_type": "stream",
     "text": [
      "Batch #:   0%|          | 0/235 [00:00<?, ?it/s]          "
     ]
    },
    {
     "name": "stdout",
     "output_type": "stream",
     "text": [
      "Train Loss: 0.1082189438190866\n",
      "Train Acc: 0.9486\n",
      "Epoch 5\n",
      "-------------------------------\n"
     ]
    },
    {
     "name": "stderr",
     "output_type": "stream",
     "text": [
      "Batch #:   0%|          | 0/235 [00:00<?, ?it/s]          "
     ]
    },
    {
     "name": "stdout",
     "output_type": "stream",
     "text": [
      "Train Loss: 0.1023659256385996\n",
      "Train Acc: 0.949\n",
      "Epoch 6\n",
      "-------------------------------\n"
     ]
    },
    {
     "name": "stderr",
     "output_type": "stream",
     "text": [
      "Batch #:   0%|          | 0/235 [00:00<?, ?it/s]          "
     ]
    },
    {
     "name": "stdout",
     "output_type": "stream",
     "text": [
      "Train Loss: 0.09756870945083335\n",
      "Train Acc: 0.9494666666666667\n",
      "Epoch 7\n",
      "-------------------------------\n"
     ]
    },
    {
     "name": "stderr",
     "output_type": "stream",
     "text": [
      "Batch #:   0%|          | 0/235 [00:00<?, ?it/s]          "
     ]
    },
    {
     "name": "stdout",
     "output_type": "stream",
     "text": [
      "Train Loss: 0.09373164406799256\n",
      "Train Acc: 0.9501666666666667\n",
      "Epoch 8\n",
      "-------------------------------\n"
     ]
    },
    {
     "name": "stderr",
     "output_type": "stream",
     "text": [
      "Batch #:   0%|          | 0/235 [00:00<?, ?it/s]          "
     ]
    },
    {
     "name": "stdout",
     "output_type": "stream",
     "text": [
      "Train Loss: 0.09197595132158158\n",
      "Train Acc: 0.9507333333333333\n",
      "Epoch 9\n",
      "-------------------------------\n"
     ]
    },
    {
     "name": "stderr",
     "output_type": "stream",
     "text": [
      "Batch #:   0%|          | 0/235 [00:00<?, ?it/s]          "
     ]
    },
    {
     "name": "stdout",
     "output_type": "stream",
     "text": [
      "Train Loss: 0.08948300893002369\n",
      "Train Acc: 0.951\n",
      "Epoch 10\n",
      "-------------------------------\n"
     ]
    },
    {
     "name": "stderr",
     "output_type": "stream",
     "text": [
      "Batch #:   0%|          | 0/235 [00:00<?, ?it/s]          "
     ]
    },
    {
     "name": "stdout",
     "output_type": "stream",
     "text": [
      "Train Loss: 0.08741343682433697\n",
      "Train Acc: 0.9513333333333334\n",
      "Epoch 11\n",
      "-------------------------------\n"
     ]
    },
    {
     "name": "stderr",
     "output_type": "stream",
     "text": [
      "Batch #:   0%|          | 0/235 [00:00<?, ?it/s]          "
     ]
    },
    {
     "name": "stdout",
     "output_type": "stream",
     "text": [
      "Train Loss: 0.0852056788161714\n",
      "Train Acc: 0.9523\n",
      "Epoch 12\n",
      "-------------------------------\n"
     ]
    },
    {
     "name": "stderr",
     "output_type": "stream",
     "text": [
      "Batch #:   0%|          | 0/235 [00:00<?, ?it/s]          "
     ]
    },
    {
     "name": "stdout",
     "output_type": "stream",
     "text": [
      "Train Loss: 0.08334054195500434\n",
      "Train Acc: 0.9531666666666667\n",
      "Epoch 13\n",
      "-------------------------------\n"
     ]
    },
    {
     "name": "stderr",
     "output_type": "stream",
     "text": [
      "Batch #:   0%|          | 0/235 [00:00<?, ?it/s]          "
     ]
    },
    {
     "name": "stdout",
     "output_type": "stream",
     "text": [
      "Train Loss: 0.08174110278487205\n",
      "Train Acc: 0.9540333333333333\n",
      "Epoch 14\n",
      "-------------------------------\n"
     ]
    },
    {
     "name": "stderr",
     "output_type": "stream",
     "text": [
      "Batch #:   0%|          | 0/235 [00:00<?, ?it/s]          "
     ]
    },
    {
     "name": "stdout",
     "output_type": "stream",
     "text": [
      "Train Loss: 0.08072237542017978\n",
      "Train Acc: 0.9541\n",
      "Epoch 15\n",
      "-------------------------------\n"
     ]
    },
    {
     "name": "stderr",
     "output_type": "stream",
     "text": [
      "Batch #:   0%|          | 0/235 [00:00<?, ?it/s]          "
     ]
    },
    {
     "name": "stdout",
     "output_type": "stream",
     "text": [
      "Train Loss: 0.07913345016063528\n",
      "Train Acc: 0.9547333333333333\n",
      "Epoch 1\n",
      "-------------------------------\n"
     ]
    },
    {
     "name": "stderr",
     "output_type": "stream",
     "text": [
      "Batch #:   0%|          | 0/235 [00:00<?, ?it/s]          "
     ]
    },
    {
     "name": "stdout",
     "output_type": "stream",
     "text": [
      "Validation accuracy: 83.7%, Validation loss: 0.489895 \n",
      "\n",
      "Epoch 2\n",
      "-------------------------------\n"
     ]
    },
    {
     "name": "stderr",
     "output_type": "stream",
     "text": [
      "Batch #:   0%|          | 0/235 [00:00<?, ?it/s]          "
     ]
    },
    {
     "name": "stdout",
     "output_type": "stream",
     "text": [
      "Validation accuracy: 85.6%, Validation loss: 0.413670 \n",
      "\n",
      "Epoch 3\n",
      "-------------------------------\n"
     ]
    },
    {
     "name": "stderr",
     "output_type": "stream",
     "text": [
      "Batch #:   0%|          | 0/235 [00:00<?, ?it/s]          "
     ]
    },
    {
     "name": "stdout",
     "output_type": "stream",
     "text": [
      "Validation accuracy: 86.6%, Validation loss: 0.382507 \n",
      "\n",
      "Epoch 4\n",
      "-------------------------------\n"
     ]
    },
    {
     "name": "stderr",
     "output_type": "stream",
     "text": [
      "Batch #:   0%|          | 0/235 [00:00<?, ?it/s]          "
     ]
    },
    {
     "name": "stdout",
     "output_type": "stream",
     "text": [
      "Validation accuracy: 87.2%, Validation loss: 0.366218 \n",
      "\n",
      "Epoch 5\n",
      "-------------------------------\n"
     ]
    },
    {
     "name": "stderr",
     "output_type": "stream",
     "text": [
      "Batch #:   0%|          | 0/235 [00:00<?, ?it/s]          "
     ]
    },
    {
     "name": "stdout",
     "output_type": "stream",
     "text": [
      "Validation accuracy: 87.3%, Validation loss: 0.359852 \n",
      "\n",
      "Epoch 6\n",
      "-------------------------------\n"
     ]
    },
    {
     "name": "stderr",
     "output_type": "stream",
     "text": [
      "Batch #:   0%|          | 0/235 [00:00<?, ?it/s]          "
     ]
    },
    {
     "name": "stdout",
     "output_type": "stream",
     "text": [
      "Validation accuracy: 87.6%, Validation loss: 0.354174 \n",
      "\n",
      "Epoch 7\n",
      "-------------------------------\n"
     ]
    },
    {
     "name": "stderr",
     "output_type": "stream",
     "text": [
      "Batch #:   0%|          | 0/235 [00:00<?, ?it/s]          "
     ]
    },
    {
     "name": "stdout",
     "output_type": "stream",
     "text": [
      "Validation accuracy: 87.6%, Validation loss: 0.353093 \n",
      "\n",
      "Epoch 8\n",
      "-------------------------------\n"
     ]
    },
    {
     "name": "stderr",
     "output_type": "stream",
     "text": [
      "Batch #:   0%|          | 0/235 [00:00<?, ?it/s]          "
     ]
    },
    {
     "name": "stdout",
     "output_type": "stream",
     "text": [
      "Validation accuracy: 87.8%, Validation loss: 0.352034 \n",
      "\n",
      "Epoch 9\n",
      "-------------------------------\n"
     ]
    },
    {
     "name": "stderr",
     "output_type": "stream",
     "text": [
      "Batch #:   0%|          | 0/235 [00:00<?, ?it/s]          "
     ]
    },
    {
     "name": "stdout",
     "output_type": "stream",
     "text": [
      "Validation accuracy: 88.0%, Validation loss: 0.350400 \n",
      "\n",
      "Epoch 10\n",
      "-------------------------------\n"
     ]
    },
    {
     "name": "stderr",
     "output_type": "stream",
     "text": [
      "Batch #:   0%|          | 0/40 [00:00<?, ?it/s]           "
     ]
    },
    {
     "name": "stdout",
     "output_type": "stream",
     "text": [
      "Validation accuracy: 88.0%, Validation loss: 0.352875 \n",
      "\n"
     ]
    },
    {
     "name": "stderr",
     "output_type": "stream",
     "text": [
      "Batch #:   0%|          | 0/40 [00:00<?, ?it/s]         "
     ]
    },
    {
     "name": "stdout",
     "output_type": "stream",
     "text": [
      "FSGM Accuracy [0.88, 0.8522, 0.8221, 0.7914, 0.7554, 0.7188, 0.6812, 0.6435, 0.6105, 0.5717]\n"
     ]
    },
    {
     "name": "stderr",
     "output_type": "stream",
     "text": [
      "                                                        "
     ]
    },
    {
     "name": "stdout",
     "output_type": "stream",
     "text": [
      "Noise Accuracy [0.88, 0.8796, 0.8713, 0.8642, 0.8477, 0.8287, 0.8084, 0.7678, 0.7342, 0.6943]\n"
     ]
    },
    {
     "name": "stderr",
     "output_type": "stream",
     "text": [
      "\r"
     ]
    }
   ],
   "source": [
    "history = {'train_loss': [], 'train_acc': [], 'val_loss': [], 'val_acc': []}\n",
    "\n",
    "for i in range(consts.num_repeats):\n",
    "    clear_output()\n",
    "    print(f\"Model {i+1}\\n-------------------------------\"\n",
    "                      \"\\n-------------------------------\")\n",
    "\n",
    "    torch.manual_seed(i)\n",
    "\n",
    "    teacher = pipeline.make_teacher_model()\n",
    "    teacher.load_state_dict(torch.load(pipeline.get_path()+f'/teacher_5cl_{i}.pt'))\n",
    "    model = antidistil.make_student_model()\n",
    "\n",
    "    mask = torch.tensor([1, 1, 1, 1, 1, 0, 0, 0, 0, 0], dtype=torch.float).to(consts.device)\n",
    "    \n",
    "    loss_fn = antidistil.altidistill_loss\n",
    "    optimizer = optim.Adam(model.parameters(), lr=consts.student_5_antidistil_learning_rate)\n",
    "    scheduler = optim.lr_scheduler.ExponentialLR(optimizer, gamma=0.85)\n",
    "\n",
    "    lambdas = [value for _, value in best_params.items()]\n",
    "    \n",
    "    for epoch in range(consts.student_5_antidistil_epochs):\n",
    "        print(f\"Epoch {epoch+1}\\n-------------------------------\")\n",
    "\n",
    "        pipeline.antidistil_loop(teacher, model, lambdas, mask, train_dataloader, \n",
    "                                loss_fn, optimizer, scheduler, noise_dist='uniform', noise_eps=1e-1)\n",
    "\n",
    "    optimizer = optim.Adam(model.parameters(), lr=consts.student_5_learning_rate)    \n",
    "\n",
    "    mask = torch.ones(10).to(consts.device)\n",
    "\n",
    "    loss_fn = nn.CrossEntropyLoss()\n",
    "\n",
    "    for epoch in range(consts.student_5_training_epochs):\n",
    "        print(f\"Epoch {epoch+1}\\n-------------------------------\")\n",
    "\n",
    "        pipeline.train_loop(model, history, mask, train_dataloader, loss_fn, optimizer)\n",
    "        pipeline.test_loop(model, history, mask, test_dataloader, loss_fn)\n",
    "\n",
    "    pipeline.test_loop_fsgm(model, history, mask, test_dataloader, loss_fn, consts.fsgm_eps)\n",
    "    pipeline.test_loop_noise(model, history, mask, test_dataloader, consts.noise_eps)"
   ]
  },
  {
   "cell_type": "code",
   "execution_count": 9,
   "metadata": {
    "colab": {
     "base_uri": "https://localhost:8080/"
    },
    "id": "PnKhovdoV7vD",
    "outputId": "0a71d6ab-5a06-4552-9976-ea21c77b3133"
   },
   "outputs": [
    {
     "data": {
      "image/png": "[encoded data removed]",
      "text/plain": [
       "<Figure size 864x720 with 1 Axes>"
      ]
     },
     "metadata": {
      "needs_background": "light"
     },
     "output_type": "display_data"
    }
   ],
   "source": [
    "reload(plot)\n",
    "plot.prepare_for_plots()\n",
    "plot.plot_variance([history], np.arange(1, consts.student_5_training_epochs + 1),\n",
    "                   ['From scratch'], 'val_acc', \n",
    "                    'Epoch', 'Accuracy')"
   ]
  },
  {
   "cell_type": "code",
   "execution_count": 10,
   "metadata": {
    "colab": {
     "base_uri": "https://localhost:8080/"
    },
    "id": "R_dacsQ5XNLe",
    "outputId": "1c30d8f0-d6ba-490c-92fb-559611cab78c"
   },
   "outputs": [
    {
     "data": {
      "image/png": "[encoded data removed]",
      "text/plain": [
       "<Figure size 864x720 with 1 Axes>"
      ]
     },
     "metadata": {
      "needs_background": "light"
     },
     "output_type": "display_data"
    }
   ],
   "source": [
    "reload(plot)\n",
    "plot.prepare_for_plots()\n",
    "plot.plot_variance([history], consts.fsgm_eps,\n",
    "                   ['From scratch'], 'fsgm_noise_acc', \n",
    "                    'FSGM eps', 'Accuracy')"
   ]
  },
  {
   "cell_type": "code",
   "execution_count": 11,
   "metadata": {
    "colab": {
     "base_uri": "https://localhost:8080/"
    },
    "id": "-zO4m1hdXPP3",
    "outputId": "02a33ba7-1593-4349-dd1e-e9ae6f1c86ee"
   },
   "outputs": [
    {
     "data": {
      "image/png": "[encoded data removed]",
      "text/plain": [
       "<Figure size 864x720 with 1 Axes>"
      ]
     },
     "metadata": {
      "needs_background": "light"
     },
     "output_type": "display_data"
    }
   ],
   "source": [
    "reload(plot)\n",
    "plot.prepare_for_plots()\n",
    "plot.plot_variance([history], consts.fsgm_eps,\n",
    "                   ['From scratch'], 'param_noise_acc', \n",
    "                    'Param noise eps', 'Accuracy')"
   ]
  },
  {
   "cell_type": "code",
   "execution_count": 16,
   "metadata": {
    "id": "RBtDSC1EZgOB"
   },
   "outputs": [],
   "source": [
    "with open(pipeline.get_path()+'/history_best_antidistill_with_L4.json', 'w') as out:\n",
    "    out.write(json.dumps(history))"
   ]
  },
  {
   "cell_type": "code",
   "execution_count": null,
   "metadata": {},
   "outputs": [],
   "source": []
  }
 ],
 "metadata": {
  "accelerator": "GPU",
  "colab": {
   "collapsed_sections": [],
   "provenance": []
  },
  "kernelspec": {
   "display_name": "Python 3 (ipykernel)",
   "language": "python",
   "name": "python3"
  },
  "language_info": {
   "codemirror_mode": {
    "name": "ipython",
    "version": 3
   },
   "file_extension": ".py",
   "mimetype": "text/x-python",
   "name": "python",
   "nbconvert_exporter": "python",
   "pygments_lexer": "ipython3",
   "version": "3.8.10"
  }
 },
 "nbformat": 4,
 "nbformat_minor": 4
}
